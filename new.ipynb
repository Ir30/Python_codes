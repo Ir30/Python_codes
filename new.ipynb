{
 "cells": [
  {
   "cell_type": "code",
   "execution_count": 5,
   "metadata": {},
   "outputs": [],
   "source": [
    "import string\n",
    "alphabet_loewr = string.ascii_lowercase\n",
    "alphabet_lower = list(alphabet_loewr)\n",
    "    # print(alphabet_list)\n",
    "\n",
    "lower_dict={x:y for x,y in zip(alphabet_loewr,[i for i in range(1,27)])}\n",
    "    # print(lower_dict)\n",
    "    \n",
    "alphabet_upper = string.ascii_uppercase\n",
    "alphabet_upper = list(alphabet_upper)\n",
    "    # print(alphabet_upper)\n",
    "upper_dict={x:y for x,y in zip(alphabet_upper,[i for i in range(27,53)])}\n",
    "    "
   ]
  },
  {
   "cell_type": "code",
   "execution_count": 6,
   "metadata": {},
   "outputs": [],
   "source": [
    "def find_weight_and_swap(s):\n",
    "        weight=0\n",
    "        swaped=''\n",
    "        for i in s:\n",
    "            if i.isupper() == True:\n",
    "                weight+=upper_dict[i]\n",
    "                swaped += i.lower()\n",
    "            else:\n",
    "                weight+=lower_dict[i]\n",
    "                swaped+=i.upper()\n",
    "        \n",
    "        return weight,swaped"
   ]
  },
  {
   "cell_type": "code",
   "execution_count": 7,
   "metadata": {},
   "outputs": [
    {
     "name": "stdout",
     "output_type": "stream",
     "text": [
      "(111, 'SHiBu')\n"
     ]
    }
   ],
   "source": [
    "print(find_weight_and_swap(\"shIbU\"))"
   ]
  },
  {
   "cell_type": "code",
   "execution_count": 8,
   "metadata": {},
   "outputs": [
    {
     "name": "stdout",
     "output_type": "stream",
     "text": [
      "(10, 'ABCD')\n"
     ]
    }
   ],
   "source": [
    "print(find_weight_and_swap(\"abcd\"))"
   ]
  },
  {
   "cell_type": "code",
   "execution_count": 9,
   "metadata": {},
   "outputs": [
    {
     "name": "stdout",
     "output_type": "stream",
     "text": [
      "(36, 'AbCD')\n"
     ]
    }
   ],
   "source": [
    "print(find_weight_and_swap(\"aBcd\"))"
   ]
  },
  {
   "cell_type": "code",
   "execution_count": null,
   "metadata": {},
   "outputs": [],
   "source": []
  }
 ],
 "metadata": {
  "kernelspec": {
   "display_name": "Python 3.10.7 64-bit",
   "language": "python",
   "name": "python3"
  },
  "language_info": {
   "codemirror_mode": {
    "name": "ipython",
    "version": 3
   },
   "file_extension": ".py",
   "mimetype": "text/x-python",
   "name": "python",
   "nbconvert_exporter": "python",
   "pygments_lexer": "ipython3",
   "version": "3.10.7"
  },
  "orig_nbformat": 4,
  "vscode": {
   "interpreter": {
    "hash": "8c9d46c8a9c0c2b080c29ff9fc2c844f7204974ede6422d68585ab9bc93e5600"
   }
  }
 },
 "nbformat": 4,
 "nbformat_minor": 2
}
